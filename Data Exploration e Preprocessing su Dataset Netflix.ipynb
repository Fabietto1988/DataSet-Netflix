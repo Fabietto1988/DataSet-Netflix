{
 "cells": [
  {
   "cell_type": "code",
   "execution_count": 1,
   "id": "c9c511b8",
   "metadata": {},
   "outputs": [],
   "source": [
    "import pandas as pd\n",
    "import numpy as np\n",
    "import matplotlib.pyplot as plt\n",
    "import seaborn as sns"
   ]
  },
  {
   "cell_type": "code",
   "execution_count": 4,
   "id": "7e5b0965",
   "metadata": {},
   "outputs": [
    {
     "data": {
      "text/html": [
       "<div>\n",
       "<style scoped>\n",
       "    .dataframe tbody tr th:only-of-type {\n",
       "        vertical-align: middle;\n",
       "    }\n",
       "\n",
       "    .dataframe tbody tr th {\n",
       "        vertical-align: top;\n",
       "    }\n",
       "\n",
       "    .dataframe thead th {\n",
       "        text-align: right;\n",
       "    }\n",
       "</style>\n",
       "<table border=\"1\" class=\"dataframe\">\n",
       "  <thead>\n",
       "    <tr style=\"text-align: right;\">\n",
       "      <th></th>\n",
       "      <th>show_id</th>\n",
       "      <th>type</th>\n",
       "      <th>title</th>\n",
       "      <th>director</th>\n",
       "      <th>cast</th>\n",
       "      <th>country</th>\n",
       "      <th>date_added</th>\n",
       "      <th>release_year</th>\n",
       "      <th>rating</th>\n",
       "      <th>duration</th>\n",
       "      <th>listed_in</th>\n",
       "      <th>description</th>\n",
       "    </tr>\n",
       "  </thead>\n",
       "  <tbody>\n",
       "    <tr>\n",
       "      <th>0</th>\n",
       "      <td>s1</td>\n",
       "      <td>Movie</td>\n",
       "      <td>Dick Johnson Is Dead</td>\n",
       "      <td>Kirsten Johnson</td>\n",
       "      <td>NaN</td>\n",
       "      <td>United States</td>\n",
       "      <td>September 25, 2021</td>\n",
       "      <td>2020</td>\n",
       "      <td>PG-13</td>\n",
       "      <td>90 min</td>\n",
       "      <td>Documentaries</td>\n",
       "      <td>As her father nears the end of his life, filmm...</td>\n",
       "    </tr>\n",
       "    <tr>\n",
       "      <th>1</th>\n",
       "      <td>s2</td>\n",
       "      <td>TV Show</td>\n",
       "      <td>Blood &amp; Water</td>\n",
       "      <td>NaN</td>\n",
       "      <td>Ama Qamata, Khosi Ngema, Gail Mabalane, Thaban...</td>\n",
       "      <td>South Africa</td>\n",
       "      <td>September 24, 2021</td>\n",
       "      <td>2021</td>\n",
       "      <td>TV-MA</td>\n",
       "      <td>2 Seasons</td>\n",
       "      <td>International TV Shows, TV Dramas, TV Mysteries</td>\n",
       "      <td>After crossing paths at a party, a Cape Town t...</td>\n",
       "    </tr>\n",
       "    <tr>\n",
       "      <th>2</th>\n",
       "      <td>s3</td>\n",
       "      <td>TV Show</td>\n",
       "      <td>Ganglands</td>\n",
       "      <td>Julien Leclercq</td>\n",
       "      <td>Sami Bouajila, Tracy Gotoas, Samuel Jouy, Nabi...</td>\n",
       "      <td>NaN</td>\n",
       "      <td>September 24, 2021</td>\n",
       "      <td>2021</td>\n",
       "      <td>TV-MA</td>\n",
       "      <td>1 Season</td>\n",
       "      <td>Crime TV Shows, International TV Shows, TV Act...</td>\n",
       "      <td>To protect his family from a powerful drug lor...</td>\n",
       "    </tr>\n",
       "    <tr>\n",
       "      <th>3</th>\n",
       "      <td>s4</td>\n",
       "      <td>TV Show</td>\n",
       "      <td>Jailbirds New Orleans</td>\n",
       "      <td>NaN</td>\n",
       "      <td>NaN</td>\n",
       "      <td>NaN</td>\n",
       "      <td>September 24, 2021</td>\n",
       "      <td>2021</td>\n",
       "      <td>TV-MA</td>\n",
       "      <td>1 Season</td>\n",
       "      <td>Docuseries, Reality TV</td>\n",
       "      <td>Feuds, flirtations and toilet talk go down amo...</td>\n",
       "    </tr>\n",
       "    <tr>\n",
       "      <th>4</th>\n",
       "      <td>s5</td>\n",
       "      <td>TV Show</td>\n",
       "      <td>Kota Factory</td>\n",
       "      <td>NaN</td>\n",
       "      <td>Mayur More, Jitendra Kumar, Ranjan Raj, Alam K...</td>\n",
       "      <td>India</td>\n",
       "      <td>September 24, 2021</td>\n",
       "      <td>2021</td>\n",
       "      <td>TV-MA</td>\n",
       "      <td>2 Seasons</td>\n",
       "      <td>International TV Shows, Romantic TV Shows, TV ...</td>\n",
       "      <td>In a city of coaching centers known to train I...</td>\n",
       "    </tr>\n",
       "  </tbody>\n",
       "</table>\n",
       "</div>"
      ],
      "text/plain": [
       "  show_id     type                  title         director  \\\n",
       "0      s1    Movie   Dick Johnson Is Dead  Kirsten Johnson   \n",
       "1      s2  TV Show          Blood & Water              NaN   \n",
       "2      s3  TV Show              Ganglands  Julien Leclercq   \n",
       "3      s4  TV Show  Jailbirds New Orleans              NaN   \n",
       "4      s5  TV Show           Kota Factory              NaN   \n",
       "\n",
       "                                                cast        country  \\\n",
       "0                                                NaN  United States   \n",
       "1  Ama Qamata, Khosi Ngema, Gail Mabalane, Thaban...   South Africa   \n",
       "2  Sami Bouajila, Tracy Gotoas, Samuel Jouy, Nabi...            NaN   \n",
       "3                                                NaN            NaN   \n",
       "4  Mayur More, Jitendra Kumar, Ranjan Raj, Alam K...          India   \n",
       "\n",
       "           date_added  release_year rating   duration  \\\n",
       "0  September 25, 2021          2020  PG-13     90 min   \n",
       "1  September 24, 2021          2021  TV-MA  2 Seasons   \n",
       "2  September 24, 2021          2021  TV-MA   1 Season   \n",
       "3  September 24, 2021          2021  TV-MA   1 Season   \n",
       "4  September 24, 2021          2021  TV-MA  2 Seasons   \n",
       "\n",
       "                                           listed_in  \\\n",
       "0                                      Documentaries   \n",
       "1    International TV Shows, TV Dramas, TV Mysteries   \n",
       "2  Crime TV Shows, International TV Shows, TV Act...   \n",
       "3                             Docuseries, Reality TV   \n",
       "4  International TV Shows, Romantic TV Shows, TV ...   \n",
       "\n",
       "                                         description  \n",
       "0  As her father nears the end of his life, filmm...  \n",
       "1  After crossing paths at a party, a Cape Town t...  \n",
       "2  To protect his family from a powerful drug lor...  \n",
       "3  Feuds, flirtations and toilet talk go down amo...  \n",
       "4  In a city of coaching centers known to train I...  "
      ]
     },
     "execution_count": 4,
     "metadata": {},
     "output_type": "execute_result"
    }
   ],
   "source": [
    "df = pd.read_csv('netflix_titles.csv')\n",
    "df.head()"
   ]
  },
  {
   "cell_type": "code",
   "execution_count": 23,
   "id": "2ecaa769",
   "metadata": {},
   "outputs": [
    {
     "data": {
      "text/plain": [
       "Index(['show_id', 'type', 'title', 'director', 'cast', 'country', 'date_added',\n",
       "       'release_year', 'rating', 'duration', 'listed_in', 'description'],\n",
       "      dtype='object')"
      ]
     },
     "execution_count": 23,
     "metadata": {},
     "output_type": "execute_result"
    }
   ],
   "source": [
    "df.columns"
   ]
  },
  {
   "cell_type": "code",
   "execution_count": null,
   "id": "84dc6be8",
   "metadata": {},
   "outputs": [],
   "source": []
  },
  {
   "cell_type": "code",
   "execution_count": 28,
   "id": "8fcba75c",
   "metadata": {},
   "outputs": [
    {
     "data": {
      "text/plain": [
       "(8807, 12)"
      ]
     },
     "execution_count": 28,
     "metadata": {},
     "output_type": "execute_result"
    }
   ],
   "source": [
    "df.shape"
   ]
  },
  {
   "cell_type": "code",
   "execution_count": null,
   "id": "09e64a13",
   "metadata": {},
   "outputs": [],
   "source": []
  },
  {
   "cell_type": "code",
   "execution_count": 7,
   "id": "e099f258",
   "metadata": {},
   "outputs": [
    {
     "data": {
      "text/plain": [
       "show_id         False\n",
       "type            False\n",
       "title           False\n",
       "director         True\n",
       "cast             True\n",
       "country          True\n",
       "date_added       True\n",
       "release_year    False\n",
       "rating           True\n",
       "duration         True\n",
       "listed_in       False\n",
       "description     False\n",
       "dtype: bool"
      ]
     },
     "execution_count": 7,
     "metadata": {},
     "output_type": "execute_result"
    }
   ],
   "source": [
    "df.isnull().any()"
   ]
  },
  {
   "cell_type": "code",
   "execution_count": 8,
   "id": "b6b1a592",
   "metadata": {},
   "outputs": [
    {
     "data": {
      "text/plain": [
       "show_id            0\n",
       "type               0\n",
       "title              0\n",
       "director        2634\n",
       "cast             825\n",
       "country          831\n",
       "date_added        10\n",
       "release_year       0\n",
       "rating             4\n",
       "duration           3\n",
       "listed_in          0\n",
       "description        0\n",
       "dtype: int64"
      ]
     },
     "execution_count": 8,
     "metadata": {},
     "output_type": "execute_result"
    }
   ],
   "source": [
    "df.isnull().sum()"
   ]
  },
  {
   "cell_type": "code",
   "execution_count": 9,
   "id": "d4397ea9",
   "metadata": {},
   "outputs": [
    {
     "data": {
      "text/plain": [
       "4307"
      ]
     },
     "execution_count": 9,
     "metadata": {},
     "output_type": "execute_result"
    }
   ],
   "source": [
    "df.isnull().sum().sum()"
   ]
  },
  {
   "cell_type": "code",
   "execution_count": 10,
   "id": "6e17fa02",
   "metadata": {},
   "outputs": [
    {
     "data": {
      "text/plain": [
       "0       Kirsten Johnson\n",
       "1                   NaN\n",
       "2       Julien Leclercq\n",
       "3                   NaN\n",
       "4                   NaN\n",
       "             ...       \n",
       "8802      David Fincher\n",
       "8803                NaN\n",
       "8804    Ruben Fleischer\n",
       "8805       Peter Hewitt\n",
       "8806        Mozez Singh\n",
       "Name: director, Length: 8807, dtype: object"
      ]
     },
     "execution_count": 10,
     "metadata": {},
     "output_type": "execute_result"
    }
   ],
   "source": [
    "df.director"
   ]
  },
  {
   "cell_type": "code",
   "execution_count": 11,
   "id": "807cab54",
   "metadata": {},
   "outputs": [
    {
     "data": {
      "text/plain": [
       "0       Kirsten Johnson\n",
       "1           No Director\n",
       "2       Julien Leclercq\n",
       "3           No Director\n",
       "4           No Director\n",
       "             ...       \n",
       "8802      David Fincher\n",
       "8803        No Director\n",
       "8804    Ruben Fleischer\n",
       "8805       Peter Hewitt\n",
       "8806        Mozez Singh\n",
       "Name: director, Length: 8807, dtype: object"
      ]
     },
     "execution_count": 11,
     "metadata": {},
     "output_type": "execute_result"
    }
   ],
   "source": [
    "df.director.fillna(\"No Director\", inplace=True)\n",
    "df.director"
   ]
  },
  {
   "cell_type": "code",
   "execution_count": 12,
   "id": "5ad51f2b",
   "metadata": {},
   "outputs": [
    {
     "data": {
      "text/plain": [
       "0                                                     NaN\n",
       "1       Ama Qamata, Khosi Ngema, Gail Mabalane, Thaban...\n",
       "2       Sami Bouajila, Tracy Gotoas, Samuel Jouy, Nabi...\n",
       "3                                                     NaN\n",
       "4       Mayur More, Jitendra Kumar, Ranjan Raj, Alam K...\n",
       "                              ...                        \n",
       "8802    Mark Ruffalo, Jake Gyllenhaal, Robert Downey J...\n",
       "8803                                                  NaN\n",
       "8804    Jesse Eisenberg, Woody Harrelson, Emma Stone, ...\n",
       "8805    Tim Allen, Courteney Cox, Chevy Chase, Kate Ma...\n",
       "8806    Vicky Kaushal, Sarah-Jane Dias, Raaghav Chanan...\n",
       "Name: cast, Length: 8807, dtype: object"
      ]
     },
     "execution_count": 12,
     "metadata": {},
     "output_type": "execute_result"
    }
   ],
   "source": [
    "df.cast"
   ]
  },
  {
   "cell_type": "code",
   "execution_count": 16,
   "id": "2fa27b48",
   "metadata": {},
   "outputs": [
    {
     "data": {
      "text/plain": [
       "0                                                 No Cast\n",
       "1       Ama Qamata, Khosi Ngema, Gail Mabalane, Thaban...\n",
       "2       Sami Bouajila, Tracy Gotoas, Samuel Jouy, Nabi...\n",
       "3                                                 No Cast\n",
       "4       Mayur More, Jitendra Kumar, Ranjan Raj, Alam K...\n",
       "                              ...                        \n",
       "8802    Mark Ruffalo, Jake Gyllenhaal, Robert Downey J...\n",
       "8803                                              No Cast\n",
       "8804    Jesse Eisenberg, Woody Harrelson, Emma Stone, ...\n",
       "8805    Tim Allen, Courteney Cox, Chevy Chase, Kate Ma...\n",
       "8806    Vicky Kaushal, Sarah-Jane Dias, Raaghav Chanan...\n",
       "Name: cast, Length: 8807, dtype: object"
      ]
     },
     "execution_count": 16,
     "metadata": {},
     "output_type": "execute_result"
    }
   ],
   "source": [
    "df.cast.fillna(\"No Cast\", inplace=True)\n",
    "df.cast"
   ]
  },
  {
   "cell_type": "code",
   "execution_count": 22,
   "id": "f528fca2",
   "metadata": {},
   "outputs": [
    {
     "data": {
      "text/plain": [
       "0       United States\n",
       "1        South Africa\n",
       "2          No Country\n",
       "3          No Country\n",
       "4               India\n",
       "            ...      \n",
       "8802    United States\n",
       "8803       No Country\n",
       "8804    United States\n",
       "8805    United States\n",
       "8806            India\n",
       "Name: country, Length: 8807, dtype: object"
      ]
     },
     "execution_count": 22,
     "metadata": {},
     "output_type": "execute_result"
    }
   ],
   "source": [
    "df.country.fillna(\"No Country\", inplace=True)\n",
    "df.country"
   ]
  },
  {
   "cell_type": "code",
   "execution_count": 31,
   "id": "765cab37",
   "metadata": {},
   "outputs": [
    {
     "name": "stdout",
     "output_type": "stream",
     "text": [
      "Index(['show_id', 'type', 'title', 'director', 'cast', 'country', 'date_added',\n",
      "       'release_year', 'rating', 'duration', 'listed_in', 'description'],\n",
      "      dtype='object')\n"
     ]
    }
   ],
   "source": [
    "print(df.columns)\n",
    "df.dropna(subset=[\"date_added\", \"rating\", \"duration\"], inplace=True)"
   ]
  },
  {
   "cell_type": "code",
   "execution_count": 32,
   "id": "14edd1bf",
   "metadata": {},
   "outputs": [
    {
     "data": {
      "text/plain": [
       "(8790, 12)"
      ]
     },
     "execution_count": 32,
     "metadata": {},
     "output_type": "execute_result"
    }
   ],
   "source": [
    "df.shape"
   ]
  },
  {
   "cell_type": "code",
   "execution_count": 34,
   "id": "daa0213d",
   "metadata": {},
   "outputs": [
    {
     "data": {
      "text/plain": [
       "show_id         False\n",
       "type            False\n",
       "title           False\n",
       "director        False\n",
       "cast            False\n",
       "country         False\n",
       "date_added      False\n",
       "release_year    False\n",
       "rating          False\n",
       "duration        False\n",
       "listed_in       False\n",
       "description     False\n",
       "dtype: bool"
      ]
     },
     "execution_count": 34,
     "metadata": {},
     "output_type": "execute_result"
    }
   ],
   "source": [
    "df.isnull().any()"
   ]
  },
  {
   "cell_type": "code",
   "execution_count": 41,
   "id": "f8d814e6",
   "metadata": {},
   "outputs": [
    {
     "name": "stdout",
     "output_type": "stream",
     "text": [
      "Anno più lontano -> 1925\n",
      "Anno più recente -> 2021\n"
     ]
    }
   ],
   "source": [
    "min_year = df['release_year'].min()\n",
    "max_year = df['release_year'].max()\n",
    "print(\"Anno più lontano -> {}\".format(min_year))\n",
    "print(\"Anno più recente -> {}\".format(max_year))"
   ]
  },
  {
   "cell_type": "code",
   "execution_count": 42,
   "id": "f98f207a",
   "metadata": {},
   "outputs": [
    {
     "data": {
      "text/html": [
       "<div>\n",
       "<style scoped>\n",
       "    .dataframe tbody tr th:only-of-type {\n",
       "        vertical-align: middle;\n",
       "    }\n",
       "\n",
       "    .dataframe tbody tr th {\n",
       "        vertical-align: top;\n",
       "    }\n",
       "\n",
       "    .dataframe thead th {\n",
       "        text-align: right;\n",
       "    }\n",
       "</style>\n",
       "<table border=\"1\" class=\"dataframe\">\n",
       "  <thead>\n",
       "    <tr style=\"text-align: right;\">\n",
       "      <th></th>\n",
       "      <th>show_id</th>\n",
       "      <th>type</th>\n",
       "      <th>title</th>\n",
       "      <th>director</th>\n",
       "      <th>cast</th>\n",
       "      <th>country</th>\n",
       "      <th>date_added</th>\n",
       "      <th>release_year</th>\n",
       "      <th>rating</th>\n",
       "      <th>duration</th>\n",
       "      <th>listed_in</th>\n",
       "      <th>description</th>\n",
       "    </tr>\n",
       "  </thead>\n",
       "  <tbody>\n",
       "    <tr>\n",
       "      <th>0</th>\n",
       "      <td>s1</td>\n",
       "      <td>Movie</td>\n",
       "      <td>Dick Johnson Is Dead</td>\n",
       "      <td>Kirsten Johnson</td>\n",
       "      <td>No Cast</td>\n",
       "      <td>United States</td>\n",
       "      <td>September 25, 2021</td>\n",
       "      <td>2020</td>\n",
       "      <td>PG-13</td>\n",
       "      <td>90 min</td>\n",
       "      <td>Documentaries</td>\n",
       "      <td>As her father nears the end of his life, filmm...</td>\n",
       "    </tr>\n",
       "    <tr>\n",
       "      <th>9</th>\n",
       "      <td>s10</td>\n",
       "      <td>Movie</td>\n",
       "      <td>The Starling</td>\n",
       "      <td>Theodore Melfi</td>\n",
       "      <td>Melissa McCarthy, Chris O'Dowd, Kevin Kline, T...</td>\n",
       "      <td>United States</td>\n",
       "      <td>September 24, 2021</td>\n",
       "      <td>2021</td>\n",
       "      <td>PG-13</td>\n",
       "      <td>104 min</td>\n",
       "      <td>Comedies, Dramas</td>\n",
       "      <td>A woman adjusting to life after a loss contend...</td>\n",
       "    </tr>\n",
       "    <tr>\n",
       "      <th>27</th>\n",
       "      <td>s28</td>\n",
       "      <td>Movie</td>\n",
       "      <td>Grown Ups</td>\n",
       "      <td>Dennis Dugan</td>\n",
       "      <td>Adam Sandler, Kevin James, Chris Rock, David S...</td>\n",
       "      <td>United States</td>\n",
       "      <td>September 20, 2021</td>\n",
       "      <td>2010</td>\n",
       "      <td>PG-13</td>\n",
       "      <td>103 min</td>\n",
       "      <td>Comedies</td>\n",
       "      <td>Mourning the loss of their beloved junior high...</td>\n",
       "    </tr>\n",
       "    <tr>\n",
       "      <th>28</th>\n",
       "      <td>s29</td>\n",
       "      <td>Movie</td>\n",
       "      <td>Dark Skies</td>\n",
       "      <td>Scott Stewart</td>\n",
       "      <td>Keri Russell, Josh Hamilton, J.K. Simmons, Dak...</td>\n",
       "      <td>United States</td>\n",
       "      <td>September 19, 2021</td>\n",
       "      <td>2013</td>\n",
       "      <td>PG-13</td>\n",
       "      <td>97 min</td>\n",
       "      <td>Horror Movies, Sci-Fi &amp; Fantasy</td>\n",
       "      <td>A family’s idyllic suburban life shatters when...</td>\n",
       "    </tr>\n",
       "    <tr>\n",
       "      <th>29</th>\n",
       "      <td>s30</td>\n",
       "      <td>Movie</td>\n",
       "      <td>Paranoia</td>\n",
       "      <td>Robert Luketic</td>\n",
       "      <td>Liam Hemsworth, Gary Oldman, Amber Heard, Harr...</td>\n",
       "      <td>United States, India, France</td>\n",
       "      <td>September 19, 2021</td>\n",
       "      <td>2013</td>\n",
       "      <td>PG-13</td>\n",
       "      <td>106 min</td>\n",
       "      <td>Thrillers</td>\n",
       "      <td>Blackmailed by his company's CEO, a low-level ...</td>\n",
       "    </tr>\n",
       "    <tr>\n",
       "      <th>...</th>\n",
       "      <td>...</td>\n",
       "      <td>...</td>\n",
       "      <td>...</td>\n",
       "      <td>...</td>\n",
       "      <td>...</td>\n",
       "      <td>...</td>\n",
       "      <td>...</td>\n",
       "      <td>...</td>\n",
       "      <td>...</td>\n",
       "      <td>...</td>\n",
       "      <td>...</td>\n",
       "      <td>...</td>\n",
       "    </tr>\n",
       "    <tr>\n",
       "      <th>8757</th>\n",
       "      <td>s8758</td>\n",
       "      <td>Movie</td>\n",
       "      <td>World Trade Center</td>\n",
       "      <td>Oliver Stone</td>\n",
       "      <td>Nicolas Cage, Michael Peña, Maggie Gyllenhaal,...</td>\n",
       "      <td>United States</td>\n",
       "      <td>November 20, 2019</td>\n",
       "      <td>2006</td>\n",
       "      <td>PG-13</td>\n",
       "      <td>129 min</td>\n",
       "      <td>Action &amp; Adventure, Dramas</td>\n",
       "      <td>Working under treacherous conditions, an army ...</td>\n",
       "    </tr>\n",
       "    <tr>\n",
       "      <th>8764</th>\n",
       "      <td>s8765</td>\n",
       "      <td>Movie</td>\n",
       "      <td>Wyatt Earp</td>\n",
       "      <td>Lawrence Kasdan</td>\n",
       "      <td>Kevin Costner, Dennis Quaid, Gene Hackman, Dav...</td>\n",
       "      <td>United States</td>\n",
       "      <td>January 1, 2020</td>\n",
       "      <td>1994</td>\n",
       "      <td>PG-13</td>\n",
       "      <td>191 min</td>\n",
       "      <td>Action &amp; Adventure</td>\n",
       "      <td>Legendary lawman Wyatt Earp is continually at ...</td>\n",
       "    </tr>\n",
       "    <tr>\n",
       "      <th>8766</th>\n",
       "      <td>s8767</td>\n",
       "      <td>Movie</td>\n",
       "      <td>XXx</td>\n",
       "      <td>Rob Cohen</td>\n",
       "      <td>Vin Diesel, Asia Argento, Marton Csokas, Samue...</td>\n",
       "      <td>United States</td>\n",
       "      <td>January 1, 2019</td>\n",
       "      <td>2002</td>\n",
       "      <td>PG-13</td>\n",
       "      <td>124 min</td>\n",
       "      <td>Action &amp; Adventure, Sports Movies</td>\n",
       "      <td>A notorious underground rush-seeker deemed unt...</td>\n",
       "    </tr>\n",
       "    <tr>\n",
       "      <th>8767</th>\n",
       "      <td>s8768</td>\n",
       "      <td>Movie</td>\n",
       "      <td>XXX: State of the Union</td>\n",
       "      <td>Lee Tamahori</td>\n",
       "      <td>Ice Cube, Samuel L. Jackson, Willem Dafoe, Sco...</td>\n",
       "      <td>United States</td>\n",
       "      <td>January 1, 2019</td>\n",
       "      <td>2005</td>\n",
       "      <td>PG-13</td>\n",
       "      <td>101 min</td>\n",
       "      <td>Action &amp; Adventure</td>\n",
       "      <td>In this action-packed follow-up to XXX, U.S. i...</td>\n",
       "    </tr>\n",
       "    <tr>\n",
       "      <th>8782</th>\n",
       "      <td>s8783</td>\n",
       "      <td>Movie</td>\n",
       "      <td>Yoga Hosers</td>\n",
       "      <td>Kevin Smith</td>\n",
       "      <td>Harley Quinn Smith, Lily-Rose Depp, Johnny Dep...</td>\n",
       "      <td>United States</td>\n",
       "      <td>December 2, 2016</td>\n",
       "      <td>2016</td>\n",
       "      <td>PG-13</td>\n",
       "      <td>88 min</td>\n",
       "      <td>Comedies, Horror Movies, Independent Movies</td>\n",
       "      <td>With an all-important high school party at sta...</td>\n",
       "    </tr>\n",
       "  </tbody>\n",
       "</table>\n",
       "<p>490 rows × 12 columns</p>\n",
       "</div>"
      ],
      "text/plain": [
       "     show_id   type                    title         director  \\\n",
       "0         s1  Movie     Dick Johnson Is Dead  Kirsten Johnson   \n",
       "9        s10  Movie             The Starling   Theodore Melfi   \n",
       "27       s28  Movie                Grown Ups     Dennis Dugan   \n",
       "28       s29  Movie               Dark Skies    Scott Stewart   \n",
       "29       s30  Movie                 Paranoia   Robert Luketic   \n",
       "...      ...    ...                      ...              ...   \n",
       "8757   s8758  Movie       World Trade Center     Oliver Stone   \n",
       "8764   s8765  Movie               Wyatt Earp  Lawrence Kasdan   \n",
       "8766   s8767  Movie                      XXx        Rob Cohen   \n",
       "8767   s8768  Movie  XXX: State of the Union     Lee Tamahori   \n",
       "8782   s8783  Movie              Yoga Hosers      Kevin Smith   \n",
       "\n",
       "                                                   cast  \\\n",
       "0                                               No Cast   \n",
       "9     Melissa McCarthy, Chris O'Dowd, Kevin Kline, T...   \n",
       "27    Adam Sandler, Kevin James, Chris Rock, David S...   \n",
       "28    Keri Russell, Josh Hamilton, J.K. Simmons, Dak...   \n",
       "29    Liam Hemsworth, Gary Oldman, Amber Heard, Harr...   \n",
       "...                                                 ...   \n",
       "8757  Nicolas Cage, Michael Peña, Maggie Gyllenhaal,...   \n",
       "8764  Kevin Costner, Dennis Quaid, Gene Hackman, Dav...   \n",
       "8766  Vin Diesel, Asia Argento, Marton Csokas, Samue...   \n",
       "8767  Ice Cube, Samuel L. Jackson, Willem Dafoe, Sco...   \n",
       "8782  Harley Quinn Smith, Lily-Rose Depp, Johnny Dep...   \n",
       "\n",
       "                           country          date_added  release_year rating  \\\n",
       "0                    United States  September 25, 2021          2020  PG-13   \n",
       "9                    United States  September 24, 2021          2021  PG-13   \n",
       "27                   United States  September 20, 2021          2010  PG-13   \n",
       "28                   United States  September 19, 2021          2013  PG-13   \n",
       "29    United States, India, France  September 19, 2021          2013  PG-13   \n",
       "...                            ...                 ...           ...    ...   \n",
       "8757                 United States   November 20, 2019          2006  PG-13   \n",
       "8764                 United States     January 1, 2020          1994  PG-13   \n",
       "8766                 United States     January 1, 2019          2002  PG-13   \n",
       "8767                 United States     January 1, 2019          2005  PG-13   \n",
       "8782                 United States    December 2, 2016          2016  PG-13   \n",
       "\n",
       "     duration                                    listed_in  \\\n",
       "0      90 min                                Documentaries   \n",
       "9     104 min                             Comedies, Dramas   \n",
       "27    103 min                                     Comedies   \n",
       "28     97 min              Horror Movies, Sci-Fi & Fantasy   \n",
       "29    106 min                                    Thrillers   \n",
       "...       ...                                          ...   \n",
       "8757  129 min                   Action & Adventure, Dramas   \n",
       "8764  191 min                           Action & Adventure   \n",
       "8766  124 min            Action & Adventure, Sports Movies   \n",
       "8767  101 min                           Action & Adventure   \n",
       "8782   88 min  Comedies, Horror Movies, Independent Movies   \n",
       "\n",
       "                                            description  \n",
       "0     As her father nears the end of his life, filmm...  \n",
       "9     A woman adjusting to life after a loss contend...  \n",
       "27    Mourning the loss of their beloved junior high...  \n",
       "28    A family’s idyllic suburban life shatters when...  \n",
       "29    Blackmailed by his company's CEO, a low-level ...  \n",
       "...                                                 ...  \n",
       "8757  Working under treacherous conditions, an army ...  \n",
       "8764  Legendary lawman Wyatt Earp is continually at ...  \n",
       "8766  A notorious underground rush-seeker deemed unt...  \n",
       "8767  In this action-packed follow-up to XXX, U.S. i...  \n",
       "8782  With an all-important high school party at sta...  \n",
       "\n",
       "[490 rows x 12 columns]"
      ]
     },
     "execution_count": 42,
     "metadata": {},
     "output_type": "execute_result"
    }
   ],
   "source": [
    "df.groupby('rating').get_group(\"PG-13\")\n"
   ]
  },
  {
   "cell_type": "code",
   "execution_count": 43,
   "id": "7517fa03",
   "metadata": {},
   "outputs": [
    {
     "data": {
      "text/plain": [
       "(490, 12)"
      ]
     },
     "execution_count": 43,
     "metadata": {},
     "output_type": "execute_result"
    }
   ],
   "source": [
    "df.groupby('rating').get_group(\"PG-13\").shape"
   ]
  },
  {
   "cell_type": "code",
   "execution_count": 48,
   "id": "5e85d888",
   "metadata": {},
   "outputs": [
    {
     "data": {
      "text/html": [
       "<div>\n",
       "<style scoped>\n",
       "    .dataframe tbody tr th:only-of-type {\n",
       "        vertical-align: middle;\n",
       "    }\n",
       "\n",
       "    .dataframe tbody tr th {\n",
       "        vertical-align: top;\n",
       "    }\n",
       "\n",
       "    .dataframe thead th {\n",
       "        text-align: right;\n",
       "    }\n",
       "</style>\n",
       "<table border=\"1\" class=\"dataframe\">\n",
       "  <thead>\n",
       "    <tr style=\"text-align: right;\">\n",
       "      <th></th>\n",
       "      <th>show_id</th>\n",
       "      <th>type</th>\n",
       "      <th>title</th>\n",
       "      <th>director</th>\n",
       "      <th>cast</th>\n",
       "      <th>country</th>\n",
       "      <th>date_added</th>\n",
       "      <th>release_year</th>\n",
       "      <th>rating</th>\n",
       "      <th>duration</th>\n",
       "      <th>listed_in</th>\n",
       "      <th>description</th>\n",
       "    </tr>\n",
       "  </thead>\n",
       "  <tbody>\n",
       "    <tr>\n",
       "      <th>9</th>\n",
       "      <td>s10</td>\n",
       "      <td>Movie</td>\n",
       "      <td>The Starling</td>\n",
       "      <td>Theodore Melfi</td>\n",
       "      <td>Melissa McCarthy, Chris O'Dowd, Kevin Kline, T...</td>\n",
       "      <td>United States</td>\n",
       "      <td>September 24, 2021</td>\n",
       "      <td>2021</td>\n",
       "      <td>PG-13</td>\n",
       "      <td>104 min</td>\n",
       "      <td>Comedies, Dramas</td>\n",
       "      <td>A woman adjusting to life after a loss contend...</td>\n",
       "    </tr>\n",
       "    <tr>\n",
       "      <th>88</th>\n",
       "      <td>s89</td>\n",
       "      <td>Movie</td>\n",
       "      <td>Blood Brothers: Malcolm X &amp; Muhammad Ali</td>\n",
       "      <td>Marcus Clarke</td>\n",
       "      <td>Malcolm X, Muhammad Ali</td>\n",
       "      <td>No Country</td>\n",
       "      <td>September 9, 2021</td>\n",
       "      <td>2021</td>\n",
       "      <td>PG-13</td>\n",
       "      <td>96 min</td>\n",
       "      <td>Documentaries, Sports Movies</td>\n",
       "      <td>From a chance meeting to a tragic fallout, Mal...</td>\n",
       "    </tr>\n",
       "    <tr>\n",
       "      <th>560</th>\n",
       "      <td>s561</td>\n",
       "      <td>Movie</td>\n",
       "      <td>Audible</td>\n",
       "      <td>Matt Ogens</td>\n",
       "      <td>No Cast</td>\n",
       "      <td>No Country</td>\n",
       "      <td>July 1, 2021</td>\n",
       "      <td>2021</td>\n",
       "      <td>PG-13</td>\n",
       "      <td>39 min</td>\n",
       "      <td>Documentaries, Sports Movies</td>\n",
       "      <td>Shaken by a friend's suicide, a Deaf high scho...</td>\n",
       "    </tr>\n",
       "    <tr>\n",
       "      <th>1370</th>\n",
       "      <td>s1371</td>\n",
       "      <td>Movie</td>\n",
       "      <td>The Dig</td>\n",
       "      <td>Simon Stone</td>\n",
       "      <td>Carey Mulligan, Ralph Fiennes, Lily James, Joh...</td>\n",
       "      <td>United Kingdom</td>\n",
       "      <td>January 29, 2021</td>\n",
       "      <td>2021</td>\n",
       "      <td>PG-13</td>\n",
       "      <td>113 min</td>\n",
       "      <td>Dramas, International Movies</td>\n",
       "      <td>On the eve of World War II, a British widow hi...</td>\n",
       "    </tr>\n",
       "    <tr>\n",
       "      <th>1088</th>\n",
       "      <td>s1089</td>\n",
       "      <td>Movie</td>\n",
       "      <td>Thunder Force</td>\n",
       "      <td>Ben Falcone</td>\n",
       "      <td>Melissa McCarthy, Octavia Spencer, Jason Batem...</td>\n",
       "      <td>United States</td>\n",
       "      <td>April 9, 2021</td>\n",
       "      <td>2021</td>\n",
       "      <td>PG-13</td>\n",
       "      <td>107 min</td>\n",
       "      <td>Action &amp; Adventure, Comedies</td>\n",
       "      <td>Two childhood best friends reunite as an unlik...</td>\n",
       "    </tr>\n",
       "    <tr>\n",
       "      <th>...</th>\n",
       "      <td>...</td>\n",
       "      <td>...</td>\n",
       "      <td>...</td>\n",
       "      <td>...</td>\n",
       "      <td>...</td>\n",
       "      <td>...</td>\n",
       "      <td>...</td>\n",
       "      <td>...</td>\n",
       "      <td>...</td>\n",
       "      <td>...</td>\n",
       "      <td>...</td>\n",
       "      <td>...</td>\n",
       "    </tr>\n",
       "    <tr>\n",
       "      <th>7844</th>\n",
       "      <td>s7845</td>\n",
       "      <td>Movie</td>\n",
       "      <td>Red Dawn</td>\n",
       "      <td>John Milius</td>\n",
       "      <td>Patrick Swayze, C. Thomas Howell, Lea Thompson...</td>\n",
       "      <td>United States</td>\n",
       "      <td>December 31, 2019</td>\n",
       "      <td>1984</td>\n",
       "      <td>PG-13</td>\n",
       "      <td>114 min</td>\n",
       "      <td>Action &amp; Adventure, Cult Movies</td>\n",
       "      <td>A group of teenagers witnesses Soviet and Cuba...</td>\n",
       "    </tr>\n",
       "    <tr>\n",
       "      <th>4861</th>\n",
       "      <td>s4862</td>\n",
       "      <td>Movie</td>\n",
       "      <td>Lupin the 3rd: The Castle of Cagliostro: Speci...</td>\n",
       "      <td>Hayao Miyazaki</td>\n",
       "      <td>Yasuo Yamada, Kiyoshi Kobayashi, Eiko Masuyama...</td>\n",
       "      <td>Japan</td>\n",
       "      <td>May 15, 2018</td>\n",
       "      <td>1979</td>\n",
       "      <td>PG-13</td>\n",
       "      <td>100 min</td>\n",
       "      <td>Action &amp; Adventure, Anime Features, Classic Mo...</td>\n",
       "      <td>Lupin, his sidekick, Jigen, and the samurai wa...</td>\n",
       "    </tr>\n",
       "    <tr>\n",
       "      <th>7659</th>\n",
       "      <td>s7660</td>\n",
       "      <td>Movie</td>\n",
       "      <td>Once Upon a Time in the West</td>\n",
       "      <td>Sergio Leone</td>\n",
       "      <td>Henry Fonda, Charles Bronson, Claudia Cardinal...</td>\n",
       "      <td>Italy, United States</td>\n",
       "      <td>November 20, 2019</td>\n",
       "      <td>1968</td>\n",
       "      <td>PG-13</td>\n",
       "      <td>166 min</td>\n",
       "      <td>Action &amp; Adventure, Classic Movies, Internatio...</td>\n",
       "      <td>In this epic spaghetti Western, a flinty gunsl...</td>\n",
       "    </tr>\n",
       "    <tr>\n",
       "      <th>6619</th>\n",
       "      <td>s6620</td>\n",
       "      <td>Movie</td>\n",
       "      <td>Doctor Zhivago</td>\n",
       "      <td>David Lean</td>\n",
       "      <td>Omar Sharif, Julie Christie, Geraldine Chaplin...</td>\n",
       "      <td>United States, Italy, United Kingdom, Liechten...</td>\n",
       "      <td>November 1, 2019</td>\n",
       "      <td>1965</td>\n",
       "      <td>PG-13</td>\n",
       "      <td>200 min</td>\n",
       "      <td>Classic Movies, Dramas, Romantic Movies</td>\n",
       "      <td>A young physician and his beautiful mistress g...</td>\n",
       "    </tr>\n",
       "    <tr>\n",
       "      <th>7839</th>\n",
       "      <td>s7840</td>\n",
       "      <td>Movie</td>\n",
       "      <td>Rebel Without a Cause</td>\n",
       "      <td>Nicholas Ray</td>\n",
       "      <td>James Dean, Natalie Wood, Sal Mineo, Jim Backu...</td>\n",
       "      <td>United States</td>\n",
       "      <td>November 1, 2019</td>\n",
       "      <td>1955</td>\n",
       "      <td>PG-13</td>\n",
       "      <td>111 min</td>\n",
       "      <td>Classic Movies, Dramas</td>\n",
       "      <td>When Jim Stark arrives in a new town with his ...</td>\n",
       "    </tr>\n",
       "  </tbody>\n",
       "</table>\n",
       "<p>490 rows × 12 columns</p>\n",
       "</div>"
      ],
      "text/plain": [
       "     show_id   type                                              title  \\\n",
       "9        s10  Movie                                       The Starling   \n",
       "88       s89  Movie           Blood Brothers: Malcolm X & Muhammad Ali   \n",
       "560     s561  Movie                                            Audible   \n",
       "1370   s1371  Movie                                            The Dig   \n",
       "1088   s1089  Movie                                      Thunder Force   \n",
       "...      ...    ...                                                ...   \n",
       "7844   s7845  Movie                                           Red Dawn   \n",
       "4861   s4862  Movie  Lupin the 3rd: The Castle of Cagliostro: Speci...   \n",
       "7659   s7660  Movie                       Once Upon a Time in the West   \n",
       "6619   s6620  Movie                                     Doctor Zhivago   \n",
       "7839   s7840  Movie                              Rebel Without a Cause   \n",
       "\n",
       "            director                                               cast  \\\n",
       "9     Theodore Melfi  Melissa McCarthy, Chris O'Dowd, Kevin Kline, T...   \n",
       "88     Marcus Clarke                            Malcolm X, Muhammad Ali   \n",
       "560       Matt Ogens                                            No Cast   \n",
       "1370     Simon Stone  Carey Mulligan, Ralph Fiennes, Lily James, Joh...   \n",
       "1088     Ben Falcone  Melissa McCarthy, Octavia Spencer, Jason Batem...   \n",
       "...              ...                                                ...   \n",
       "7844     John Milius  Patrick Swayze, C. Thomas Howell, Lea Thompson...   \n",
       "4861  Hayao Miyazaki  Yasuo Yamada, Kiyoshi Kobayashi, Eiko Masuyama...   \n",
       "7659    Sergio Leone  Henry Fonda, Charles Bronson, Claudia Cardinal...   \n",
       "6619      David Lean  Omar Sharif, Julie Christie, Geraldine Chaplin...   \n",
       "7839    Nicholas Ray  James Dean, Natalie Wood, Sal Mineo, Jim Backu...   \n",
       "\n",
       "                                                country          date_added  \\\n",
       "9                                         United States  September 24, 2021   \n",
       "88                                           No Country   September 9, 2021   \n",
       "560                                          No Country        July 1, 2021   \n",
       "1370                                     United Kingdom    January 29, 2021   \n",
       "1088                                      United States       April 9, 2021   \n",
       "...                                                 ...                 ...   \n",
       "7844                                      United States   December 31, 2019   \n",
       "4861                                              Japan        May 15, 2018   \n",
       "7659                               Italy, United States   November 20, 2019   \n",
       "6619  United States, Italy, United Kingdom, Liechten...    November 1, 2019   \n",
       "7839                                      United States    November 1, 2019   \n",
       "\n",
       "      release_year rating duration  \\\n",
       "9             2021  PG-13  104 min   \n",
       "88            2021  PG-13   96 min   \n",
       "560           2021  PG-13   39 min   \n",
       "1370          2021  PG-13  113 min   \n",
       "1088          2021  PG-13  107 min   \n",
       "...            ...    ...      ...   \n",
       "7844          1984  PG-13  114 min   \n",
       "4861          1979  PG-13  100 min   \n",
       "7659          1968  PG-13  166 min   \n",
       "6619          1965  PG-13  200 min   \n",
       "7839          1955  PG-13  111 min   \n",
       "\n",
       "                                              listed_in  \\\n",
       "9                                      Comedies, Dramas   \n",
       "88                         Documentaries, Sports Movies   \n",
       "560                        Documentaries, Sports Movies   \n",
       "1370                       Dramas, International Movies   \n",
       "1088                       Action & Adventure, Comedies   \n",
       "...                                                 ...   \n",
       "7844                    Action & Adventure, Cult Movies   \n",
       "4861  Action & Adventure, Anime Features, Classic Mo...   \n",
       "7659  Action & Adventure, Classic Movies, Internatio...   \n",
       "6619            Classic Movies, Dramas, Romantic Movies   \n",
       "7839                             Classic Movies, Dramas   \n",
       "\n",
       "                                            description  \n",
       "9     A woman adjusting to life after a loss contend...  \n",
       "88    From a chance meeting to a tragic fallout, Mal...  \n",
       "560   Shaken by a friend's suicide, a Deaf high scho...  \n",
       "1370  On the eve of World War II, a British widow hi...  \n",
       "1088  Two childhood best friends reunite as an unlik...  \n",
       "...                                                 ...  \n",
       "7844  A group of teenagers witnesses Soviet and Cuba...  \n",
       "4861  Lupin, his sidekick, Jigen, and the samurai wa...  \n",
       "7659  In this epic spaghetti Western, a flinty gunsl...  \n",
       "6619  A young physician and his beautiful mistress g...  \n",
       "7839  When Jim Stark arrives in a new town with his ...  \n",
       "\n",
       "[490 rows x 12 columns]"
      ]
     },
     "execution_count": 48,
     "metadata": {},
     "output_type": "execute_result"
    }
   ],
   "source": [
    "df.groupby('rating').get_group(\"PG-13\").sort_values(by=['release_year'], ascending=False)"
   ]
  },
  {
   "cell_type": "code",
   "execution_count": 54,
   "id": "23f37339",
   "metadata": {},
   "outputs": [
    {
     "name": "stdout",
     "output_type": "stream",
     "text": [
      "Movie\n",
      "2664\n",
      "TV Show\n",
      "2664\n"
     ]
    }
   ],
   "source": [
    "for i in df.type.value_counts().index:\n",
    "    print(i)\n",
    "\n",
    "#for c in df.type.value_counts():\n",
    "    print(c)\n",
    "\n",
    "\n",
    "\n",
    "\n",
    "#ptl.figure(figsize=(12, 6))\n",
    "#plt.title(\"Serie TV vs. Film\")\n"
   ]
  },
  {
   "cell_type": "code",
   "execution_count": null,
   "id": "2c2bb9cc",
   "metadata": {},
   "outputs": [],
   "source": []
  },
  {
   "cell_type": "code",
   "execution_count": null,
   "id": "6253089d",
   "metadata": {},
   "outputs": [],
   "source": []
  },
  {
   "cell_type": "code",
   "execution_count": null,
   "id": "981f6c2b",
   "metadata": {},
   "outputs": [],
   "source": []
  },
  {
   "cell_type": "code",
   "execution_count": null,
   "id": "810c5dab",
   "metadata": {},
   "outputs": [],
   "source": []
  },
  {
   "cell_type": "code",
   "execution_count": null,
   "id": "51aac81b",
   "metadata": {},
   "outputs": [],
   "source": []
  },
  {
   "cell_type": "code",
   "execution_count": null,
   "id": "30c32a58",
   "metadata": {},
   "outputs": [],
   "source": []
  },
  {
   "cell_type": "code",
   "execution_count": null,
   "id": "58c9ffb9",
   "metadata": {},
   "outputs": [],
   "source": []
  },
  {
   "cell_type": "code",
   "execution_count": null,
   "id": "f02c30fa",
   "metadata": {},
   "outputs": [],
   "source": []
  },
  {
   "cell_type": "code",
   "execution_count": null,
   "id": "34b43461",
   "metadata": {},
   "outputs": [],
   "source": []
  },
  {
   "cell_type": "code",
   "execution_count": null,
   "id": "5aad7e16",
   "metadata": {},
   "outputs": [],
   "source": []
  },
  {
   "cell_type": "code",
   "execution_count": null,
   "id": "50b281d5",
   "metadata": {},
   "outputs": [],
   "source": []
  },
  {
   "cell_type": "code",
   "execution_count": null,
   "id": "1be7ac3d",
   "metadata": {},
   "outputs": [],
   "source": []
  },
  {
   "cell_type": "code",
   "execution_count": null,
   "id": "9d510b46",
   "metadata": {},
   "outputs": [],
   "source": []
  },
  {
   "cell_type": "code",
   "execution_count": null,
   "id": "e11bc51c",
   "metadata": {},
   "outputs": [],
   "source": []
  },
  {
   "cell_type": "code",
   "execution_count": null,
   "id": "6f2556dc",
   "metadata": {},
   "outputs": [],
   "source": []
  },
  {
   "cell_type": "code",
   "execution_count": null,
   "id": "527dd0dc",
   "metadata": {},
   "outputs": [],
   "source": []
  },
  {
   "cell_type": "code",
   "execution_count": null,
   "id": "00fb5949",
   "metadata": {},
   "outputs": [],
   "source": []
  }
 ],
 "metadata": {
  "kernelspec": {
   "display_name": "Python 3 (ipykernel)",
   "language": "python",
   "name": "python3"
  },
  "language_info": {
   "codemirror_mode": {
    "name": "ipython",
    "version": 3
   },
   "file_extension": ".py",
   "mimetype": "text/x-python",
   "name": "python",
   "nbconvert_exporter": "python",
   "pygments_lexer": "ipython3",
   "version": "3.11.5"
  }
 },
 "nbformat": 4,
 "nbformat_minor": 5
}
